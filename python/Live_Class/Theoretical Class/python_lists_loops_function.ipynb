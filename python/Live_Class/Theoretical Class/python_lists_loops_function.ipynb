{
  "nbformat": 4,
  "nbformat_minor": 5,
  "metadata": {
    "colab": {
      "provenance": []
    },
    "language_info": {
      "name": "python"
    },
    "kernelspec": {
      "name": "python3",
      "display_name": "Python 3"
    }
  },
  "cells": [
    {
      "cell_type": "markdown",
      "metadata": {
        "id": "T0BmwVcGw19c"
      },
      "source": [
        "### Introduction to Lists, Arrays, and Dictionaries in Python"
      ],
      "id": "T0BmwVcGw19c"
    },
    {
      "cell_type": "markdown",
      "metadata": {
        "id": "ZgWJAclaw19e"
      },
      "source": [
        "# Lists in Python\n",
        "A list is a collection that is ordered and changeable. It allows duplicate members."
      ],
      "id": "ZgWJAclaw19e"
    },
    {
      "cell_type": "code",
      "execution_count": 11,
      "metadata": {
        "colab": {
          "base_uri": "https://localhost:8080/"
        },
        "id": "ybWBkbvsw19f",
        "outputId": "efaeb0ea-0965-46c7-f0c1-a7e2b0569c71"
      },
      "outputs": [
        {
          "output_type": "stream",
          "name": "stdout",
          "text": [
            "First element: 1\n",
            "Last element: 5\n",
            "After appending: [1, 2, 3, 4, 5, 6]\n"
          ]
        }
      ],
      "source": [
        "my_list = [1, 2, 3, 4, 5]  # A simple list of integers\n",
        "mixed_list = [1, \"hello\", 3.14, True]  # A mixed data type list\n",
        "\n",
        "# Accessing elements\n",
        "print(\"First element:\", my_list[0])  # Access first element\n",
        "print(\"Last element:\", my_list[-1])  # Access last element\n",
        "\n",
        "# Modifying lists\n",
        "my_list.append(6)  # Adding an element\n",
        "print(\"After appending:\", my_list)\n",
        "\n",
        "my_list.remove(3)  # Removing an element\n",
        "print(\"After removing 3:\", my_list)"
      ],
      "id": "ybWBkbvsw19f"
    },
    {
      "cell_type": "code",
      "source": [
        "# Slicing lists (Complete)\n",
        "print(\"First three elements:\", my_list[0:3])"
      ],
      "metadata": {
        "colab": {
          "base_uri": "https://localhost:8080/"
        },
        "id": "GfJ7Hfdb81jA",
        "outputId": "c618bb29-541b-4634-849c-aa4237ced16b"
      },
      "id": "GfJ7Hfdb81jA",
      "execution_count": 8,
      "outputs": [
        {
          "output_type": "stream",
          "name": "stdout",
          "text": [
            "First three elements: [1, 2, 4]\n"
          ]
        }
      ]
    },
    {
      "cell_type": "markdown",
      "metadata": {
        "id": "8oENUXm5w19g"
      },
      "source": [
        "# (Easy): Find the sum of all elements in a list"
      ],
      "id": "8oENUXm5w19g"
    },
    {
      "cell_type": "code",
      "execution_count": 12,
      "metadata": {
        "colab": {
          "base_uri": "https://localhost:8080/"
        },
        "id": "7N1qEFITw19g",
        "outputId": "1df14de6-2ae6-40ac-d0df-0ca2b6f3f1e2"
      },
      "outputs": [
        {
          "output_type": "stream",
          "name": "stdout",
          "text": [
            "Sum of list elements: 21\n"
          ]
        }
      ],
      "source": [
        "sum_list = sum(my_list)\n",
        "print(\"Sum of list elements:\", sum_list)"
      ],
      "id": "7N1qEFITw19g"
    },
    {
      "cell_type": "markdown",
      "source": [
        "### Solution"
      ],
      "metadata": {
        "id": "NcGcDAJy-ShY"
      },
      "id": "NcGcDAJy-ShY"
    },
    {
      "cell_type": "code",
      "source": [
        "sum_list = sum(my_list)\n",
        "print(\"Sum of list elements:\", sum_list)"
      ],
      "metadata": {
        "id": "prqLHgnQ-Uqi"
      },
      "id": "prqLHgnQ-Uqi",
      "execution_count": null,
      "outputs": []
    },
    {
      "cell_type": "markdown",
      "metadata": {
        "id": "X6D8MDtaw19g"
      },
      "source": [
        "# (Medium): Find the second largest element in a list"
      ],
      "id": "X6D8MDtaw19g"
    },
    {
      "cell_type": "code",
      "execution_count": 17,
      "metadata": {
        "colab": {
          "base_uri": "https://localhost:8080/"
        },
        "id": "73AKy-_uw19g",
        "outputId": "cd545b5b-09ae-4634-ed2c-6759d3509e89"
      },
      "outputs": [
        {
          "output_type": "stream",
          "name": "stdout",
          "text": [
            "[10, 8, 7, 5, 3, 1]\n"
          ]
        }
      ],
      "source": [
        "my_list = [5, 3, 7, 8, 10, 1]\n",
        "sorted_list = sorted(my_list, reverse=True)\n",
        "print(sorted_list)"
      ],
      "id": "73AKy-_uw19g"
    },
    {
      "cell_type": "code",
      "source": [
        "second_largest = sorted_list[1]\n",
        "print(\"Second largest element:\", second_largest)"
      ],
      "metadata": {
        "colab": {
          "base_uri": "https://localhost:8080/"
        },
        "id": "Y9cGRW2AGck4",
        "outputId": "2d016c39-603f-411a-c9a7-c60c13f7de50"
      },
      "id": "Y9cGRW2AGck4",
      "execution_count": 18,
      "outputs": [
        {
          "output_type": "stream",
          "name": "stdout",
          "text": [
            "Second largest element: 8\n"
          ]
        }
      ]
    },
    {
      "cell_type": "markdown",
      "source": [
        "### Solution"
      ],
      "metadata": {
        "id": "RuBqhQYW-YzS"
      },
      "id": "RuBqhQYW-YzS"
    },
    {
      "cell_type": "code",
      "source": [
        "sorted_list = sorted(my_list, reverse=True)\n",
        "second_largest = sorted_list[1]\n",
        "print(\"Second largest element:\", second_largest)"
      ],
      "metadata": {
        "id": "LBzvv4O1-ati"
      },
      "id": "LBzvv4O1-ati",
      "execution_count": null,
      "outputs": []
    },
    {
      "cell_type": "markdown",
      "source": [
        "# Dictionary"
      ],
      "metadata": {
        "id": "g13LMCrj8Prx"
      },
      "id": "g13LMCrj8Prx"
    },
    {
      "cell_type": "code",
      "source": [
        "# Employee Salaries in a Company\n",
        "\n",
        "employee_salaries = {\n",
        "    \"A\": 60000,\n",
        "    \"B\": 55000,\n",
        "    \"C\": 70000,\n",
        "    \"D\": 62000,\n",
        "    \"E\": 58000\n",
        "}\n",
        "\n",
        "# Print the dictionary\n",
        "print(employee_salaries)\n",
        "\n",
        "# Print A's salary\n",
        "print(\"A's salary: \", employee_salaries['A'])\n",
        "\n",
        "# Update B's salary to 65000\n",
        "employee_salaries['B'] = 65000\n",
        "\n",
        "# Add a new employee called F with salary 65000\n",
        "employee_salaries['F'] = 65000\n",
        "\n",
        "# Delete employee C\n",
        "# employee_salaries.pop(\"C\")\n",
        "del employee_salaries['C']\n",
        "\n",
        "# Print the updated list\n",
        "print(employee_salaries)"
      ],
      "metadata": {
        "colab": {
          "base_uri": "https://localhost:8080/"
        },
        "id": "POqXooKX8SiG",
        "outputId": "bb273d99-abc5-4364-dffe-2bb93ab3c511"
      },
      "id": "POqXooKX8SiG",
      "execution_count": 24,
      "outputs": [
        {
          "output_type": "stream",
          "name": "stdout",
          "text": [
            "{'A': 60000, 'B': 55000, 'C': 70000, 'D': 62000, 'E': 58000}\n",
            "A's salary:  60000\n",
            "{'A': 60000, 'B': 65000, 'D': 62000, 'E': 58000, 'F': 65000}\n"
          ]
        }
      ]
    },
    {
      "cell_type": "markdown",
      "source": [
        "### Solution"
      ],
      "metadata": {
        "id": "MtkKmYnT8mkS"
      },
      "id": "MtkKmYnT8mkS"
    },
    {
      "cell_type": "code",
      "source": [
        "# Print dictionary\n",
        "print(employee_salaries)\n",
        "\n",
        "# Accessing an employee's salary\n",
        "print(\"A's salary:\", employee_salaries[\"A\"])\n",
        "\n",
        "# Updating a salary\n",
        "employee_salaries[\"B\"] = 57000\n",
        "\n",
        "# Adding a new employee\n",
        "employee_salaries[\"F\"] = 65000\n",
        "\n",
        "# Removing an employee\n",
        "del employee_salaries[\"C\"]\n",
        "\n",
        "# Printing the updated dictionary\n",
        "print(\"Updated Employee Salaries:\", employee_salaries)\n"
      ],
      "metadata": {
        "id": "bZJu5_6A8o9b"
      },
      "id": "bZJu5_6A8o9b",
      "execution_count": null,
      "outputs": []
    },
    {
      "cell_type": "markdown",
      "metadata": {
        "id": "ebvn9n3tw19h"
      },
      "source": [
        "# Loops and Functions Examples"
      ],
      "id": "ebvn9n3tw19h"
    },
    {
      "cell_type": "code",
      "execution_count": 31,
      "metadata": {
        "colab": {
          "base_uri": "https://localhost:8080/"
        },
        "id": "8yDSecVsw19h",
        "outputId": "c36f34a2-2531-4183-b3d0-315261c3d21d"
      },
      "outputs": [
        {
          "output_type": "stream",
          "name": "stdout",
          "text": [
            "5\n",
            "3\n",
            "7\n",
            "8\n",
            "10\n",
            "1\n",
            "100\n",
            "8\n"
          ]
        }
      ],
      "source": [
        "# Using a for loop to print each item in a list\n",
        "my_list = [5, 3, 7, 8, 10, 1, 100, 8]\n",
        "\n",
        "for i in my_list:\n",
        "  print(i)"
      ],
      "id": "8yDSecVsw19h"
    },
    {
      "cell_type": "markdown",
      "source": [
        "### Solution"
      ],
      "metadata": {
        "id": "DuVnttOl9Tce"
      },
      "id": "DuVnttOl9Tce"
    },
    {
      "cell_type": "code",
      "source": [
        "for num in my_list:\n",
        "    print(num)"
      ],
      "metadata": {
        "id": "1RpFuDxL9VJ7"
      },
      "id": "1RpFuDxL9VJ7",
      "execution_count": null,
      "outputs": []
    },
    {
      "cell_type": "markdown",
      "source": [
        "## While Loop"
      ],
      "metadata": {
        "id": "qXol262F9haL"
      },
      "id": "qXol262F9haL"
    },
    {
      "cell_type": "code",
      "execution_count": 28,
      "metadata": {
        "colab": {
          "base_uri": "https://localhost:8080/"
        },
        "id": "bBWHGy0Ow19h",
        "outputId": "c4ef2d80-70ea-4592-c42a-c54165198d02"
      },
      "outputs": [
        {
          "output_type": "stream",
          "name": "stdout",
          "text": [
            "5\n",
            "3\n",
            "7\n",
            "8\n",
            "10\n",
            "1\n",
            "100\n",
            "8\n"
          ]
        }
      ],
      "source": [
        "# Using a while loop\n",
        "my_list = [5, 3, 7, 8, 10, 1, 100, 8]\n",
        "i = 0\n",
        "while i < len(my_list):\n",
        "  # print('-'*50)\n",
        "  # print('i =', i)\n",
        "  print(my_list[i])\n",
        "  i += 1"
      ],
      "id": "bBWHGy0Ow19h"
    },
    {
      "cell_type": "markdown",
      "source": [
        "### Solution"
      ],
      "metadata": {
        "id": "VJTMnXf99mrl"
      },
      "id": "VJTMnXf99mrl"
    },
    {
      "cell_type": "code",
      "source": [
        "# Using a while loop\n",
        "i = 0\n",
        "while i < len(my_list):\n",
        "    print(my_list[i] + 1)\n",
        "    i += 1"
      ],
      "metadata": {
        "id": "ON9q-pSF9n75"
      },
      "id": "ON9q-pSF9n75",
      "execution_count": null,
      "outputs": []
    },
    {
      "cell_type": "markdown",
      "source": [
        "## Simple Function"
      ],
      "metadata": {
        "id": "nGA7slov9kGF"
      },
      "id": "nGA7slov9kGF"
    },
    {
      "cell_type": "code",
      "execution_count": null,
      "metadata": {
        "id": "8w0CZetIw19h"
      },
      "outputs": [],
      "source": [
        "# Function to find the maximum number in a list\n",
        "def find_max(lst):\n",
        "    max_value = ____\n",
        "    for num in lst:\n",
        "        if ______:\n",
        "            max_value = num\n",
        "    return max_value\n",
        "\n",
        "print(\"Maximum value in the list:\", find_max(my_list))"
      ],
      "id": "8w0CZetIw19h"
    },
    {
      "cell_type": "markdown",
      "source": [
        "### Solution"
      ],
      "metadata": {
        "id": "TWbvyiVc-wab"
      },
      "id": "TWbvyiVc-wab"
    },
    {
      "cell_type": "code",
      "source": [
        "# Function to find the maximum number in a list\n",
        "def find_max(lst):\n",
        "    max_value = lst[0]\n",
        "    for num in lst:\n",
        "        if num > max_value:\n",
        "            max_value = num\n",
        "    return max_value\n",
        "\n",
        "print(\"Maximum value in the list:\", find_max(my_list))"
      ],
      "metadata": {
        "id": "JXG9rpWP_Eqy"
      },
      "id": "JXG9rpWP_Eqy",
      "execution_count": null,
      "outputs": []
    },
    {
      "cell_type": "markdown",
      "source": [
        "## Fraud Detection in Banking Transactions"
      ],
      "metadata": {
        "id": "kU5NRBn17N49"
      },
      "id": "kU5NRBn17N49"
    },
    {
      "cell_type": "code",
      "source": [
        "def detect_fraud(transactions):\n",
        "    avg_spending = sum(transactions)/len(transactions)\n",
        "    print(avg_spending)\n",
        "    # suspicious = [t for t in transactions if t > avg_spending*2]  # Filter for transactions more than 2 times the average spending\n",
        "    suspicious = []\n",
        "    for t in transactions:\n",
        "      if t > avg_spending*2:\n",
        "        suspicious.append(t)\n",
        "\n",
        "    return suspicious\n",
        "\n",
        "# Example transaction history\n",
        "transactions = [50, 55, 60, 150, 200, 45, 70]\n",
        "\n",
        "# Detect fraud\n",
        "print(\"Suspicious Transactions:\", detect_fraud(transactions))"
      ],
      "metadata": {
        "colab": {
          "base_uri": "https://localhost:8080/"
        },
        "id": "jACuoaDY7MIz",
        "outputId": "02bd9648-fb55-45e3-9a1c-d17dc656ac1a"
      },
      "id": "jACuoaDY7MIz",
      "execution_count": 33,
      "outputs": [
        {
          "output_type": "stream",
          "name": "stdout",
          "text": [
            "90.0\n",
            "Suspicious Transactions: [200]\n"
          ]
        }
      ]
    },
    {
      "cell_type": "markdown",
      "source": [
        "### Solution"
      ],
      "metadata": {
        "id": "JdpwrjYl_NbL"
      },
      "id": "JdpwrjYl_NbL"
    },
    {
      "cell_type": "code",
      "source": [
        "def detect_fraud(transactions):\n",
        "    avg_spending = sum(transactions) / len(transactions)\n",
        "    suspicious = [t for t in transactions if t > 2 * avg_spending]\n",
        "    return suspicious\n",
        "\n",
        "# Example transaction history\n",
        "transactions = [50, 55, 60, 150, 200, 45, 70]\n",
        "\n",
        "# Detect fraud\n",
        "print(\"Suspicious Transactions:\", detect_fraud(transactions))"
      ],
      "metadata": {
        "id": "zaNRYhZy-_qj"
      },
      "id": "zaNRYhZy-_qj",
      "execution_count": null,
      "outputs": []
    }
  ]
}