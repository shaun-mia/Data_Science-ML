{
  "nbformat": 4,
  "nbformat_minor": 0,
  "metadata": {
    "colab": {
      "provenance": []
    },
    "kernelspec": {
      "name": "python3",
      "display_name": "Python 3"
    },
    "language_info": {
      "name": "python"
    }
  },
  "cells": [
    {
      "cell_type": "markdown",
      "source": [
        "#**Additional Important Topics for Python Fundamentals for Data Science**"
      ],
      "metadata": {
        "id": "k54YhRDer8kY"
      }
    },
    {
      "cell_type": "markdown",
      "source": [
        "There are a few additional fundamental concepts that are particularly important for Data Science and Machine Learning that we might want to learn.\n",
        "\n",
        "These topics will help us better understand how Python is used in data science workflows.\n",
        "\n"
      ],
      "metadata": {
        "id": "q5oBMmm4rmj1"
      }
    },
    {
      "cell_type": "markdown",
      "source": [
        "##**1. List Comprehensions:**\n",
        "\n",
        "**List Comprehensions:** A concise way to create lists.\n",
        "\n",
        "Useful for data preprocessing and transformation."
      ],
      "metadata": {
        "id": "L_NUogycsEs4"
      }
    },
    {
      "cell_type": "code",
      "source": [
        "# Example: List Comprehension\n",
        "# Create a list of squares\n",
        "\n",
        "numbers = [1, 2, 3, 4, 5]\n",
        "squares = [num ** 2 for num in numbers]\n",
        "print(\"Squares:\", squares)\n",
        "\n",
        "# Filter even numbers\n",
        "evens = [num for num in numbers if num % 2 == 0]\n",
        "print(\"Even Numbers:\", evens)"
      ],
      "metadata": {
        "colab": {
          "base_uri": "https://localhost:8080/"
        },
        "id": "JqaXHhvFsL9S",
        "outputId": "2b0e0a93-4aa1-4585-9662-acbdf5a7fb05"
      },
      "execution_count": null,
      "outputs": [
        {
          "output_type": "stream",
          "name": "stdout",
          "text": [
            "Squares: [1, 4, 9, 16, 25]\n",
            "Even Numbers: [2, 4]\n"
          ]
        }
      ]
    },
    {
      "cell_type": "markdown",
      "source": [
        "**Real-life Use Case:**\n",
        "\n",
        "Transforming or filtering datasets (e.g., extracting specific columns or rows)."
      ],
      "metadata": {
        "id": "-KOl2mSisKRl"
      }
    },
    {
      "cell_type": "markdown",
      "source": [
        "##**2. Error Handling (try, except):**\n",
        "\n",
        "**Error Handling:** Prevents programs from crashing due to errors.\n",
        "\n",
        "Essential for handling missing or invalid data."
      ],
      "metadata": {
        "id": "jwVQ8TXFsXJ3"
      }
    },
    {
      "cell_type": "code",
      "source": [
        "# Example: Error Handling\n",
        "try:\n",
        "    num = int(input(\"Enter a number: \"))\n",
        "    print(\"You entered:\", num)\n",
        "except ValueError:\n",
        "    print(\"Invalid input! Please enter a valid number.\")"
      ],
      "metadata": {
        "colab": {
          "base_uri": "https://localhost:8080/"
        },
        "id": "vHmDqh3jsby_",
        "outputId": "f1ddc2e9-a3c9-498d-aac2-89e38493dd59"
      },
      "execution_count": null,
      "outputs": [
        {
          "output_type": "stream",
          "name": "stdout",
          "text": [
            "Enter a number: rossi\n",
            "Invalid input! Please enter a valid number.\n"
          ]
        }
      ]
    },
    {
      "cell_type": "markdown",
      "source": [
        "**Real-life Use Case:**\n",
        "\n",
        "Handling user input errors or missing data in datasets."
      ],
      "metadata": {
        "id": "_iriniU2sdsR"
      }
    },
    {
      "cell_type": "markdown",
      "source": [
        "## **3. Working with Files:**\n",
        "\n",
        "File Handling: Reading from and writing to files.\n",
        "\n",
        "Data scientists often work with CSV, JSON, or text files."
      ],
      "metadata": {
        "id": "jFZ0pysUsl70"
      }
    },
    {
      "cell_type": "code",
      "source": [
        "# Example: File Handling\n",
        "# Writing to a file\n",
        "with open(\"example.txt\", \"w\") as file:\n",
        "    file.write(\"Hello, World!\")\n",
        "\n",
        "# Reading from a file\n",
        "with open(\"example.txt\", \"r\") as file:\n",
        "    content = file.read()\n",
        "    print(\"File Content:\", content)"
      ],
      "metadata": {
        "colab": {
          "base_uri": "https://localhost:8080/"
        },
        "id": "CRcaIPbSsq90",
        "outputId": "1e6102a1-e827-4099-ac76-01d36c19bad7"
      },
      "execution_count": null,
      "outputs": [
        {
          "output_type": "stream",
          "name": "stdout",
          "text": [
            "File Content: Hello, World!\n"
          ]
        }
      ]
    },
    {
      "cell_type": "markdown",
      "source": [
        "**Real-life Use Case:**\n",
        "\n",
        "Loading datasets from files or saving results to files."
      ],
      "metadata": {
        "id": "tUt0bNmusvkB"
      }
    },
    {
      "cell_type": "markdown",
      "source": [
        "##**4. Lambda Functions:**\n",
        "\n",
        "**Lambda Functions:** Small, anonymous functions defined with the lambda keyword.\n",
        "\n",
        "Useful for quick, one-time operations."
      ],
      "metadata": {
        "id": "JbnBd8mxsyhs"
      }
    },
    {
      "cell_type": "code",
      "source": [
        "# Example: Lambda Function\n",
        "# Double a number\n",
        "\n",
        "double = lambda x: x * 2\n",
        "print(\"Double of 5:\", double(5))\n",
        "\n",
        "# Use with map() to apply a function to a list\n",
        "numbers = [1, 2, 3, 4, 5]\n",
        "doubled_numbers = list(map(lambda x: x * 2, numbers))\n",
        "print(\"Doubled Numbers:\", doubled_numbers)"
      ],
      "metadata": {
        "colab": {
          "base_uri": "https://localhost:8080/"
        },
        "id": "2TRqRiXAs3dr",
        "outputId": "86ea4918-f0bc-4d86-dc83-545fc306e0a8"
      },
      "execution_count": 1,
      "outputs": [
        {
          "output_type": "stream",
          "name": "stdout",
          "text": [
            "Double of 5: 10\n",
            "Doubled Numbers: [2, 4, 6, 8, 10]\n"
          ]
        }
      ]
    },
    {
      "cell_type": "markdown",
      "source": [
        "**Real-life Use Case:**\n",
        "\n",
        "Applying quick transformations to data (e.g., scaling values)."
      ],
      "metadata": {
        "id": "sK_kPhKts6uV"
      }
    },
    {
      "cell_type": "markdown",
      "source": [
        "##*5. Working with Libraries:**\n",
        "\n",
        "Introduce the concept of importing libraries and using them.\n",
        "\n",
        "This will prepare students for working with libraries like Pandas and NumPy."
      ],
      "metadata": {
        "id": "Phzcel2Vs8zB"
      }
    },
    {
      "cell_type": "code",
      "source": [
        "# Example: Importing Libraries\n",
        "import math\n",
        "\n",
        "# Calculate square root\n",
        "print(\"Square root of 16:\", math.sqrt(16))\n",
        "\n",
        "# Generate random numbers\n",
        "import random\n",
        "print(\"Random number between 1 and 10:\", random.randint(1, 10))"
      ],
      "metadata": {
        "colab": {
          "base_uri": "https://localhost:8080/"
        },
        "id": "2K5Hojm3tAuq",
        "outputId": "1c492e0f-5e09-4cdb-d35e-a77e92f65bc8"
      },
      "execution_count": null,
      "outputs": [
        {
          "output_type": "stream",
          "name": "stdout",
          "text": [
            "Square root of 16: 4.0\n",
            "Random number between 1 and 10: 3\n"
          ]
        }
      ]
    },
    {
      "cell_type": "markdown",
      "source": [
        "**Real-life Use Case:**\n",
        "\n",
        "Using libraries for mathematical operations, data manipulation, and visualization."
      ],
      "metadata": {
        "id": "YcJy_9jFtCMo"
      }
    },
    {
      "cell_type": "markdown",
      "source": [
        "##**6. Introduction to Data Structures for Data Science:**\n",
        "\n",
        "**Data Structures:** Lists, dictionaries, and sets are commonly used in data science.\n",
        "\n",
        "Introduce nested lists and dictionaries for handling structured data."
      ],
      "metadata": {
        "id": "jcZryuyItFGd"
      }
    },
    {
      "cell_type": "code",
      "source": [
        "# Example: Nested Lists (2D List)\n",
        "matrix = [\n",
        "    [1, 2, 3],\n",
        "    [4, 5, 6],\n",
        "    [7, 8, 9]\n",
        "]\n",
        "print(\"Element at row 2, column 3:\", matrix[1][2])\n",
        "\n",
        "# Example: Nested Dictionary\n",
        "student = {\n",
        "    \"name\": \"Alice\",\n",
        "    \"grades\": {\n",
        "        \"math\": 90,\n",
        "        \"science\": 85,\n",
        "        \"history\": 88\n",
        "    }\n",
        "}\n",
        "print(\"Science grade:\", student[\"grades\"][\"science\"])"
      ],
      "metadata": {
        "colab": {
          "base_uri": "https://localhost:8080/"
        },
        "id": "kEesKufatNBU",
        "outputId": "125f8379-4926-4a49-a389-9bb6254dfe34"
      },
      "execution_count": null,
      "outputs": [
        {
          "output_type": "stream",
          "name": "stdout",
          "text": [
            "Element at row 2, column 3: 6\n",
            "Science grade: 85\n"
          ]
        }
      ]
    },
    {
      "cell_type": "markdown",
      "source": [
        "**Real-life Use Case:**\n",
        "\n",
        "Representing tabular data or hierarchical data."
      ],
      "metadata": {
        "id": "DSgLbw-ytPkf"
      }
    },
    {
      "cell_type": "markdown",
      "source": [
        "##**7. Introduction to Iterators and Generators:**\n",
        "\n",
        "**Iterators:** Objects that allow traversal through all elements of a collection.\n",
        "\n",
        "Generators: Functions that yield items one at a time, saving memory."
      ],
      "metadata": {
        "id": "SSgvwoKltUwR"
      }
    },
    {
      "cell_type": "code",
      "source": [
        "# Example: Generator Function\n",
        "def generate_numbers(n):\n",
        "    for i in range(n):\n",
        "        yield i  # Yields one value at a time\n",
        "\n",
        "# Using the generator\n",
        "for num in generate_numbers(5):\n",
        "    print(\"Generated Number:\", num)"
      ],
      "metadata": {
        "colab": {
          "base_uri": "https://localhost:8080/"
        },
        "id": "b2zw-6oCtTXo",
        "outputId": "32657013-dedf-436f-f21d-e50d38631bee"
      },
      "execution_count": null,
      "outputs": [
        {
          "output_type": "stream",
          "name": "stdout",
          "text": [
            "Generated Number: 0\n",
            "Generated Number: 1\n",
            "Generated Number: 2\n",
            "Generated Number: 3\n",
            "Generated Number: 4\n"
          ]
        }
      ]
    },
    {
      "cell_type": "markdown",
      "source": [
        "**Real-life Use Case:**\n",
        "\n",
        "Processing large datasets without loading everything into memory."
      ],
      "metadata": {
        "id": "lKH1QYjZtcqQ"
      }
    },
    {
      "cell_type": "markdown",
      "source": [
        "##**8. Introduction to Object-Oriented Programming (OOP):**\n",
        "\n",
        "**OOP Basics:** Classes and objects.\n",
        "\n",
        "Useful for organizing code and creating reusable components."
      ],
      "metadata": {
        "id": "9PEq5yPstgcK"
      }
    },
    {
      "cell_type": "code",
      "source": [
        "# Example: Class and Object\n",
        "class Person:\n",
        "    def __init__(self, name, age):\n",
        "        self.name = name\n",
        "        self.age = age\n",
        "\n",
        "    def greet(self):\n",
        "        print(f\"Hello, my name is {self.name} and I am {self.age} years old.\")\n",
        "\n",
        "# Creating an object\n",
        "person = Person(\"Alice\", 25)\n",
        "person.greet()"
      ],
      "metadata": {
        "colab": {
          "base_uri": "https://localhost:8080/"
        },
        "id": "UK1Sp3xTtlvA",
        "outputId": "f1bf4ed9-db78-475e-d07c-cee3664f7517"
      },
      "execution_count": null,
      "outputs": [
        {
          "output_type": "stream",
          "name": "stdout",
          "text": [
            "Hello, my name is Alice and I am 25 years old.\n"
          ]
        }
      ]
    },
    {
      "cell_type": "markdown",
      "source": [
        "**Real-life Use Case:**\n",
        "\n",
        "Building custom data structures or models in machine learning."
      ],
      "metadata": {
        "id": "ep6njM_gto9q"
      }
    },
    {
      "cell_type": "markdown",
      "source": [
        "##**9. Practice Exercises:**\n",
        "\n",
        "\n",
        "* Use list comprehensions to filter out negative numbers from a list.\n",
        "\n",
        "* Write a function that reads a file and counts the number of lines.\n",
        "\n",
        "* Create a generator function to yield Fibonacci numbers up to a given limit.\n",
        "\n",
        "* Use a lambda function to sort a list of tuples by the second element."
      ],
      "metadata": {
        "id": "ho8X4KFNtrtd"
      }
    }
  ]
}