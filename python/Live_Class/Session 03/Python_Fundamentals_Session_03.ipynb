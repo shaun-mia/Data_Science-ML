{
  "nbformat": 4,
  "nbformat_minor": 0,
  "metadata": {
    "colab": {
      "provenance": []
    },
    "kernelspec": {
      "name": "python3",
      "display_name": "Python 3"
    },
    "language_info": {
      "name": "python"
    }
  },
  "cells": [
    {
      "cell_type": "markdown",
      "source": [
        "## Writing a Function to Identify a Palindrome"
      ],
      "metadata": {
        "id": "UgNC9FATw4j8"
      }
    },
    {
      "cell_type": "code",
      "execution_count": 1,
      "metadata": {
        "colab": {
          "base_uri": "https://localhost:8080/"
        },
        "id": "dKX8nkCkv2eA",
        "outputId": "141c0e0f-314f-4e3d-cae3-239e56290bc4"
      },
      "outputs": [
        {
          "output_type": "stream",
          "name": "stdout",
          "text": [
            "malayalam\n"
          ]
        }
      ],
      "source": [
        "movie_name = \"malayalam\"\n",
        "print (movie_name[::-1])"
      ]
    },
    {
      "cell_type": "code",
      "source": [
        "movie_name = \"Snow\"\n",
        "print (movie_name[::-1])"
      ],
      "metadata": {
        "colab": {
          "base_uri": "https://localhost:8080/"
        },
        "id": "TcyF1QDFxQLR",
        "outputId": "4ea59e17-aa0d-4366-ba7a-0d1c284d6d0f"
      },
      "execution_count": 2,
      "outputs": [
        {
          "output_type": "stream",
          "name": "stdout",
          "text": [
            "wonS\n"
          ]
        }
      ]
    },
    {
      "cell_type": "code",
      "source": [
        "def is_palindrome(movie_name):\n",
        "    return movie_name == movie_name[::-1]\n",
        "\n",
        "movie_name = \"malayalam\"\n",
        "print (is_palindrome(movie_name))"
      ],
      "metadata": {
        "colab": {
          "base_uri": "https://localhost:8080/"
        },
        "id": "jzrCcXaNxWkM",
        "outputId": "5788c9e6-eaae-4fac-cb41-2e00e99bab57"
      },
      "execution_count": 5,
      "outputs": [
        {
          "output_type": "stream",
          "name": "stdout",
          "text": [
            "True\n"
          ]
        }
      ]
    },
    {
      "cell_type": "code",
      "source": [
        "movie_name = \"XYZ\"\n",
        "print (is_palindrome(movie_name))"
      ],
      "metadata": {
        "colab": {
          "base_uri": "https://localhost:8080/"
        },
        "id": "9wYlu1ZUxidr",
        "outputId": "884b7916-09a2-4ef0-b7db-c03d108baee9"
      },
      "execution_count": 6,
      "outputs": [
        {
          "output_type": "stream",
          "name": "stdout",
          "text": [
            "False\n"
          ]
        }
      ]
    },
    {
      "cell_type": "markdown",
      "source": [
        "## Iteration with For Loop"
      ],
      "metadata": {
        "id": "yhQ-XsqDzZc3"
      }
    },
    {
      "cell_type": "code",
      "source": [
        "movie_name = [\"malayalam\", \"Forest Gump\", \"Madam\", \"EYE\"]\n",
        "\n",
        "for movie in movie_name:\n",
        "    print (f\"{movie}: {is_palindrome(movie.upper())}\")"
      ],
      "metadata": {
        "colab": {
          "base_uri": "https://localhost:8080/"
        },
        "id": "WN9W5l3OyRXE",
        "outputId": "a0c3c011-45df-49cb-a9bf-d95e0e00ea9b"
      },
      "execution_count": 10,
      "outputs": [
        {
          "output_type": "stream",
          "name": "stdout",
          "text": [
            "malayalam: True\n",
            "Forest Gump: False\n",
            "Madam: True\n",
            "EYE: True\n"
          ]
        }
      ]
    },
    {
      "cell_type": "markdown",
      "source": [
        "## Iteration with While Loop"
      ],
      "metadata": {
        "id": "omGGxlz70XfW"
      }
    },
    {
      "cell_type": "code",
      "source": [
        "count = 0\n",
        "while count < 10:\n",
        "    print (count)\n",
        "    count += 1"
      ],
      "metadata": {
        "colab": {
          "base_uri": "https://localhost:8080/"
        },
        "id": "Oadopp-a0FSD",
        "outputId": "6e4e4400-0fde-450c-9870-5046718a2947"
      },
      "execution_count": 11,
      "outputs": [
        {
          "output_type": "stream",
          "name": "stdout",
          "text": [
            "0\n",
            "1\n",
            "2\n",
            "3\n",
            "4\n",
            "5\n",
            "6\n",
            "7\n",
            "8\n",
            "9\n"
          ]
        }
      ]
    },
    {
      "cell_type": "code",
      "source": [
        "import math"
      ],
      "metadata": {
        "id": "kihl2Jkg1ixO"
      },
      "execution_count": 12,
      "outputs": []
    },
    {
      "cell_type": "code",
      "source": [
        "numeric_num = 4\n",
        "math.sqrt(numeric_num)"
      ],
      "metadata": {
        "colab": {
          "base_uri": "https://localhost:8080/"
        },
        "id": "jWfVaJJZ1mAV",
        "outputId": "f14c2f6e-4d6c-494f-ab33-6cf117b893f4"
      },
      "execution_count": 14,
      "outputs": [
        {
          "output_type": "execute_result",
          "data": {
            "text/plain": [
              "2.0"
            ]
          },
          "metadata": {},
          "execution_count": 14
        }
      ]
    },
    {
      "cell_type": "code",
      "source": [
        "def print_sqrt(numbers):\n",
        "    for x in numbers:\n",
        "        print (f\"The square root of {x} is {math.sqrt(x)}\")"
      ],
      "metadata": {
        "id": "YpXvKtZk1GxP"
      },
      "execution_count": 15,
      "outputs": []
    },
    {
      "cell_type": "code",
      "source": [
        "numbers = [4, 16, 9, 25]"
      ],
      "metadata": {
        "id": "XBui-yxR2Zgf"
      },
      "execution_count": 16,
      "outputs": []
    },
    {
      "cell_type": "code",
      "source": [
        "print_sqrt(numbers)"
      ],
      "metadata": {
        "colab": {
          "base_uri": "https://localhost:8080/"
        },
        "id": "g_b9FnuW2d25",
        "outputId": "37ab8823-6045-4284-f981-8a5bea606501"
      },
      "execution_count": 17,
      "outputs": [
        {
          "output_type": "stream",
          "name": "stdout",
          "text": [
            "The square root of 4 is 2.0\n",
            "The square root of 16 is 4.0\n",
            "The square root of 9 is 3.0\n",
            "The square root of 25 is 5.0\n"
          ]
        }
      ]
    },
    {
      "cell_type": "code",
      "source": [
        "def square_function(numbers):\n",
        "    for x in numbers:\n",
        "        print (f\"The square of {x} is {x**2}\")"
      ],
      "metadata": {
        "id": "mzKNiYZ43lzz"
      },
      "execution_count": 20,
      "outputs": []
    },
    {
      "cell_type": "code",
      "source": [
        "square_function(numbers)"
      ],
      "metadata": {
        "colab": {
          "base_uri": "https://localhost:8080/"
        },
        "id": "n9KaPTWf3u6G",
        "outputId": "8c26a084-c92b-4644-8003-55c04ae0e1db"
      },
      "execution_count": 21,
      "outputs": [
        {
          "output_type": "stream",
          "name": "stdout",
          "text": [
            "The square of 4 is 16\n",
            "The square of 16 is 256\n",
            "The square of 9 is 81\n",
            "The square of 25 is 625\n"
          ]
        }
      ]
    },
    {
      "cell_type": "code",
      "source": [
        "def print_sqrt(numbers):\n",
        "    for x in numbers:\n",
        "        print (f\"The square root of {x} is {int(math.sqrt(x))}\")"
      ],
      "metadata": {
        "id": "d8ilV7j34Bq1"
      },
      "execution_count": 22,
      "outputs": []
    },
    {
      "cell_type": "code",
      "source": [
        "print_sqrt(numbers)"
      ],
      "metadata": {
        "colab": {
          "base_uri": "https://localhost:8080/"
        },
        "id": "kS3VxSML4Go8",
        "outputId": "8e81067d-0311-4c9b-f54b-344930808361"
      },
      "execution_count": 23,
      "outputs": [
        {
          "output_type": "stream",
          "name": "stdout",
          "text": [
            "The square root of 4 is 2\n",
            "The square root of 16 is 4\n",
            "The square root of 9 is 3\n",
            "The square root of 25 is 5\n"
          ]
        }
      ]
    },
    {
      "cell_type": "code",
      "source": [
        "def print_sqrt(my_num):\n",
        "  for x in my_num:\n",
        "    print(f\"The squre root of {x} is {math.sqrt(x)}\")"
      ],
      "metadata": {
        "id": "rZXlFsz34jKN"
      },
      "execution_count": 27,
      "outputs": []
    },
    {
      "cell_type": "code",
      "source": [
        "my_num = [1,3,4,5,6]\n",
        "print_sqrt(my_num)"
      ],
      "metadata": {
        "colab": {
          "base_uri": "https://localhost:8080/"
        },
        "id": "my_bc4Jx4mxD",
        "outputId": "73af2bb7-3644-46c6-f4e8-597f735d14b5"
      },
      "execution_count": 28,
      "outputs": [
        {
          "output_type": "stream",
          "name": "stdout",
          "text": [
            "The squre root of 1 is 1.0\n",
            "The squre root of 3 is 1.7320508075688772\n",
            "The squre root of 4 is 2.0\n",
            "The squre root of 5 is 2.23606797749979\n",
            "The squre root of 6 is 2.449489742783178\n"
          ]
        }
      ]
    },
    {
      "cell_type": "markdown",
      "source": [
        "## List Comprehensions"
      ],
      "metadata": {
        "id": "sW7mXZtm5Oc-"
      }
    },
    {
      "cell_type": "code",
      "source": [
        "numbers = [1, 2, 3, 4, 5]\n",
        "\n",
        "squares = [m**2 for m in numbers]\n",
        "\n",
        "print (squares)"
      ],
      "metadata": {
        "colab": {
          "base_uri": "https://localhost:8080/"
        },
        "id": "RB4T6AIB5RaV",
        "outputId": "d823177d-1aac-4a23-e9f5-76a9cff0989e"
      },
      "execution_count": 29,
      "outputs": [
        {
          "output_type": "stream",
          "name": "stdout",
          "text": [
            "[1, 4, 9, 16, 25]\n"
          ]
        }
      ]
    },
    {
      "cell_type": "code",
      "source": [
        "check_even = [x for x in numbers if x % 2 == 0]\n",
        "print (check_even)"
      ],
      "metadata": {
        "colab": {
          "base_uri": "https://localhost:8080/"
        },
        "id": "sLhimQ_35foq",
        "outputId": "c31ac9f9-5ea6-4440-8a86-129917d55640"
      },
      "execution_count": 30,
      "outputs": [
        {
          "output_type": "stream",
          "name": "stdout",
          "text": [
            "[2, 4]\n"
          ]
        }
      ]
    },
    {
      "cell_type": "markdown",
      "source": [
        "## Error Handling in Python"
      ],
      "metadata": {
        "id": "Vlapyqod6FWt"
      }
    },
    {
      "cell_type": "code",
      "source": [
        "num = int(input(\"Enter a number: \"))\n",
        "print(\"You have entered: \", num)"
      ],
      "metadata": {
        "colab": {
          "base_uri": "https://localhost:8080/",
          "height": 176
        },
        "id": "TgyfEKf16qZu",
        "outputId": "78407704-4dd1-4659-c116-14428fb0b236"
      },
      "execution_count": 32,
      "outputs": [
        {
          "name": "stdout",
          "output_type": "stream",
          "text": [
            "Enter a number: xyz\n"
          ]
        },
        {
          "output_type": "error",
          "ename": "ValueError",
          "evalue": "invalid literal for int() with base 10: 'xyz'",
          "traceback": [
            "\u001b[0;31m---------------------------------------------------------------------------\u001b[0m",
            "\u001b[0;31mValueError\u001b[0m                                Traceback (most recent call last)",
            "\u001b[0;32m<ipython-input-32-ca21d524d34b>\u001b[0m in \u001b[0;36m<cell line: 0>\u001b[0;34m()\u001b[0m\n\u001b[0;32m----> 1\u001b[0;31m \u001b[0mnum\u001b[0m \u001b[0;34m=\u001b[0m \u001b[0mint\u001b[0m\u001b[0;34m(\u001b[0m\u001b[0minput\u001b[0m\u001b[0;34m(\u001b[0m\u001b[0;34m\"Enter a number: \"\u001b[0m\u001b[0;34m)\u001b[0m\u001b[0;34m)\u001b[0m\u001b[0;34m\u001b[0m\u001b[0;34m\u001b[0m\u001b[0m\n\u001b[0m\u001b[1;32m      2\u001b[0m \u001b[0mprint\u001b[0m\u001b[0;34m(\u001b[0m\u001b[0;34m\"You have entered: \"\u001b[0m\u001b[0;34m,\u001b[0m \u001b[0mnum\u001b[0m\u001b[0;34m)\u001b[0m\u001b[0;34m\u001b[0m\u001b[0;34m\u001b[0m\u001b[0m\n",
            "\u001b[0;31mValueError\u001b[0m: invalid literal for int() with base 10: 'xyz'"
          ]
        }
      ]
    },
    {
      "cell_type": "code",
      "source": [
        "try:\n",
        "    num = int(input(\"Enter a number: \"))\n",
        "    print(\"You have entered: \", num)\n",
        "except ValueError:\n",
        "    print (\"Invalid input! Please enter a valid number\")"
      ],
      "metadata": {
        "colab": {
          "base_uri": "https://localhost:8080/"
        },
        "id": "L1n4DjQV55qX",
        "outputId": "f91ed94e-09a2-4c1f-d57e-a4e562b04ffd"
      },
      "execution_count": 36,
      "outputs": [
        {
          "output_type": "stream",
          "name": "stdout",
          "text": [
            "Enter a number: x5\n",
            "Invalid input! Please enter a valid number\n"
          ]
        }
      ]
    },
    {
      "cell_type": "code",
      "source": [
        "# prompt: Why we used ValueError keyword in the above code?\n",
        "\n",
        "try:\n",
        "    num = int(input(\"Enter a number: \"))\n",
        "    print(\"You have entered: \", num)\n",
        "except:\n",
        "    print (\"Invalid input! Please enter a valid number\")\n"
      ],
      "metadata": {
        "colab": {
          "base_uri": "https://localhost:8080/"
        },
        "id": "b9rm-mCY72mj",
        "outputId": "34bd8357-7ead-464f-a10e-62e72139cfe1"
      },
      "execution_count": 37,
      "outputs": [
        {
          "output_type": "stream",
          "name": "stdout",
          "text": [
            "Enter a number: x5\n",
            "Invalid input! Please enter a valid number\n"
          ]
        }
      ]
    },
    {
      "cell_type": "markdown",
      "source": [
        "## **Lambda Function**"
      ],
      "metadata": {
        "id": "0ETUOha17Klx"
      }
    },
    {
      "cell_type": "code",
      "source": [
        "square = lambda x: x ** 2\n",
        "print(square(5))"
      ],
      "metadata": {
        "colab": {
          "base_uri": "https://localhost:8080/"
        },
        "id": "ssnHyEOV890k",
        "outputId": "4bcf429b-9a56-4354-b842-7848c35b05fb"
      },
      "execution_count": 38,
      "outputs": [
        {
          "output_type": "stream",
          "name": "stdout",
          "text": [
            "25\n"
          ]
        }
      ]
    },
    {
      "cell_type": "code",
      "source": [
        "numbers = [1, 2, 3, 4, 5]\n",
        "doubled_numbers = list(map(lambda x: x * 2, numbers))\n",
        "print(\"Doubled Numbers:\", doubled_numbers)"
      ],
      "metadata": {
        "colab": {
          "base_uri": "https://localhost:8080/"
        },
        "id": "QfZNhN4m-vAz",
        "outputId": "0eee952d-9458-439b-fdf7-c10279de40b3"
      },
      "execution_count": 39,
      "outputs": [
        {
          "output_type": "stream",
          "name": "stdout",
          "text": [
            "Doubled Numbers: [2, 4, 6, 8, 10]\n"
          ]
        }
      ]
    },
    {
      "cell_type": "markdown",
      "source": [
        "pandas,\n",
        "numpy,\n",
        "statsmodels,\n",
        "scipy,\n",
        "scikitlearn,\n",
        "tensorflow,\n",
        "pytorch"
      ],
      "metadata": {
        "id": "QLARm564_E3x"
      }
    },
    {
      "cell_type": "code",
      "source": [
        "matrix = [\n",
        "    [1, 2, 3],\n",
        "    [4, 5, 6],\n",
        "    [7, 8., 9]\n",
        "]"
      ],
      "metadata": {
        "id": "wUqk7uTV-_iW"
      },
      "execution_count": 40,
      "outputs": []
    },
    {
      "cell_type": "code",
      "source": [
        "# what's the value of second row and first column?\n",
        "matrix[1][0]"
      ],
      "metadata": {
        "colab": {
          "base_uri": "https://localhost:8080/"
        },
        "id": "aii2lEoC_iZd",
        "outputId": "2a082631-6f2f-4fd7-e1b0-cb3b2e94afca"
      },
      "execution_count": 41,
      "outputs": [
        {
          "output_type": "execute_result",
          "data": {
            "text/plain": [
              "4"
            ]
          },
          "metadata": {},
          "execution_count": 41
        }
      ]
    },
    {
      "cell_type": "code",
      "source": [],
      "metadata": {
        "id": "CdO6d137_61q"
      },
      "execution_count": null,
      "outputs": []
    }
  ]
}